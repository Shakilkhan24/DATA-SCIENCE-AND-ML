{
  "nbformat": 4,
  "nbformat_minor": 0,
  "metadata": {
    "colab": {
      "provenance": [],
      "authorship_tag": "ABX9TyNqV+FgBEfNFIakIEPIdsK7",
      "include_colab_link": true
    },
    "kernelspec": {
      "name": "python3",
      "display_name": "Python 3"
    },
    "language_info": {
      "name": "python"
    }
  },
  "cells": [
    {
      "cell_type": "markdown",
      "metadata": {
        "id": "view-in-github",
        "colab_type": "text"
      },
      "source": [
        "<a href=\"https://colab.research.google.com/github/Shakilkhan24/DATA-SCIENCE-AND-ML/blob/main/pandas_practice1.ipynb\" target=\"_parent\"><img src=\"https://colab.research.google.com/assets/colab-badge.svg\" alt=\"Open In Colab\"/></a>"
      ]
    },
    {
      "cell_type": "code",
      "execution_count": 1,
      "metadata": {
        "id": "QBuG9HIF8JP_"
      },
      "outputs": [],
      "source": [
        "import pandas as pd\n",
        "import numpy as np"
      ]
    },
    {
      "cell_type": "code",
      "source": [
        "# Creating example dataframe\n",
        "np.random.seed(42)\n",
        "\n",
        "df=pd.DataFrame({\n",
        "    'ID': range(1, 101),\n",
        "    'Age': np.random.randint(18, 65, size=100),\n",
        "    'Gender': np.random.choice(['Male', 'Female'], size=100),\n",
        "    'Education': np.random.choice(['High School', 'Bachelor', 'Master', 'PhD'], size=100),\n",
        "    'Income': np.random.randint(30000, 100000, size=100),\n",
        "    'Country': np.random.choice(['USA', 'UK', 'Canada', 'Australia'], size=100),\n",
        "    'Product': np.random.choice(['A', 'B', 'C', 'D'], size=100),\n",
        "})\n",
        "df.head()"
      ],
      "metadata": {
        "colab": {
          "base_uri": "https://localhost:8080/",
          "height": 206
        },
        "id": "Iv6XCc6Y8Tiv",
        "outputId": "c86f1bf2-9b34-4f51-f130-71287f769a35"
      },
      "execution_count": 44,
      "outputs": [
        {
          "output_type": "execute_result",
          "data": {
            "text/plain": [
              "   ID  Age  Gender    Education  Income Country Product\n",
              "0   1   56  Female  High School   64754      UK       C\n",
              "1   2   46  Female       Master   41411  Canada       B\n",
              "2   3   32    Male     Bachelor   32911      UK       A\n",
              "3   4   60    Male  High School   97270  Canada       B\n",
              "4   5   25    Male  High School   38680  Canada       A"
            ],
            "text/html": [
              "\n",
              "  <div id=\"df-adb92f85-43f9-41fe-a699-38a42cf23ed7\">\n",
              "    <div class=\"colab-df-container\">\n",
              "      <div>\n",
              "<style scoped>\n",
              "    .dataframe tbody tr th:only-of-type {\n",
              "        vertical-align: middle;\n",
              "    }\n",
              "\n",
              "    .dataframe tbody tr th {\n",
              "        vertical-align: top;\n",
              "    }\n",
              "\n",
              "    .dataframe thead th {\n",
              "        text-align: right;\n",
              "    }\n",
              "</style>\n",
              "<table border=\"1\" class=\"dataframe\">\n",
              "  <thead>\n",
              "    <tr style=\"text-align: right;\">\n",
              "      <th></th>\n",
              "      <th>ID</th>\n",
              "      <th>Age</th>\n",
              "      <th>Gender</th>\n",
              "      <th>Education</th>\n",
              "      <th>Income</th>\n",
              "      <th>Country</th>\n",
              "      <th>Product</th>\n",
              "    </tr>\n",
              "  </thead>\n",
              "  <tbody>\n",
              "    <tr>\n",
              "      <th>0</th>\n",
              "      <td>1</td>\n",
              "      <td>56</td>\n",
              "      <td>Female</td>\n",
              "      <td>High School</td>\n",
              "      <td>64754</td>\n",
              "      <td>UK</td>\n",
              "      <td>C</td>\n",
              "    </tr>\n",
              "    <tr>\n",
              "      <th>1</th>\n",
              "      <td>2</td>\n",
              "      <td>46</td>\n",
              "      <td>Female</td>\n",
              "      <td>Master</td>\n",
              "      <td>41411</td>\n",
              "      <td>Canada</td>\n",
              "      <td>B</td>\n",
              "    </tr>\n",
              "    <tr>\n",
              "      <th>2</th>\n",
              "      <td>3</td>\n",
              "      <td>32</td>\n",
              "      <td>Male</td>\n",
              "      <td>Bachelor</td>\n",
              "      <td>32911</td>\n",
              "      <td>UK</td>\n",
              "      <td>A</td>\n",
              "    </tr>\n",
              "    <tr>\n",
              "      <th>3</th>\n",
              "      <td>4</td>\n",
              "      <td>60</td>\n",
              "      <td>Male</td>\n",
              "      <td>High School</td>\n",
              "      <td>97270</td>\n",
              "      <td>Canada</td>\n",
              "      <td>B</td>\n",
              "    </tr>\n",
              "    <tr>\n",
              "      <th>4</th>\n",
              "      <td>5</td>\n",
              "      <td>25</td>\n",
              "      <td>Male</td>\n",
              "      <td>High School</td>\n",
              "      <td>38680</td>\n",
              "      <td>Canada</td>\n",
              "      <td>A</td>\n",
              "    </tr>\n",
              "  </tbody>\n",
              "</table>\n",
              "</div>\n",
              "      <button class=\"colab-df-convert\" onclick=\"convertToInteractive('df-adb92f85-43f9-41fe-a699-38a42cf23ed7')\"\n",
              "              title=\"Convert this dataframe to an interactive table.\"\n",
              "              style=\"display:none;\">\n",
              "        \n",
              "  <svg xmlns=\"http://www.w3.org/2000/svg\" height=\"24px\"viewBox=\"0 0 24 24\"\n",
              "       width=\"24px\">\n",
              "    <path d=\"M0 0h24v24H0V0z\" fill=\"none\"/>\n",
              "    <path d=\"M18.56 5.44l.94 2.06.94-2.06 2.06-.94-2.06-.94-.94-2.06-.94 2.06-2.06.94zm-11 1L8.5 8.5l.94-2.06 2.06-.94-2.06-.94L8.5 2.5l-.94 2.06-2.06.94zm10 10l.94 2.06.94-2.06 2.06-.94-2.06-.94-.94-2.06-.94 2.06-2.06.94z\"/><path d=\"M17.41 7.96l-1.37-1.37c-.4-.4-.92-.59-1.43-.59-.52 0-1.04.2-1.43.59L10.3 9.45l-7.72 7.72c-.78.78-.78 2.05 0 2.83L4 21.41c.39.39.9.59 1.41.59.51 0 1.02-.2 1.41-.59l7.78-7.78 2.81-2.81c.8-.78.8-2.07 0-2.86zM5.41 20L4 18.59l7.72-7.72 1.47 1.35L5.41 20z\"/>\n",
              "  </svg>\n",
              "      </button>\n",
              "      \n",
              "  <style>\n",
              "    .colab-df-container {\n",
              "      display:flex;\n",
              "      flex-wrap:wrap;\n",
              "      gap: 12px;\n",
              "    }\n",
              "\n",
              "    .colab-df-convert {\n",
              "      background-color: #E8F0FE;\n",
              "      border: none;\n",
              "      border-radius: 50%;\n",
              "      cursor: pointer;\n",
              "      display: none;\n",
              "      fill: #1967D2;\n",
              "      height: 32px;\n",
              "      padding: 0 0 0 0;\n",
              "      width: 32px;\n",
              "    }\n",
              "\n",
              "    .colab-df-convert:hover {\n",
              "      background-color: #E2EBFA;\n",
              "      box-shadow: 0px 1px 2px rgba(60, 64, 67, 0.3), 0px 1px 3px 1px rgba(60, 64, 67, 0.15);\n",
              "      fill: #174EA6;\n",
              "    }\n",
              "\n",
              "    [theme=dark] .colab-df-convert {\n",
              "      background-color: #3B4455;\n",
              "      fill: #D2E3FC;\n",
              "    }\n",
              "\n",
              "    [theme=dark] .colab-df-convert:hover {\n",
              "      background-color: #434B5C;\n",
              "      box-shadow: 0px 1px 3px 1px rgba(0, 0, 0, 0.15);\n",
              "      filter: drop-shadow(0px 1px 2px rgba(0, 0, 0, 0.3));\n",
              "      fill: #FFFFFF;\n",
              "    }\n",
              "  </style>\n",
              "\n",
              "      <script>\n",
              "        const buttonEl =\n",
              "          document.querySelector('#df-adb92f85-43f9-41fe-a699-38a42cf23ed7 button.colab-df-convert');\n",
              "        buttonEl.style.display =\n",
              "          google.colab.kernel.accessAllowed ? 'block' : 'none';\n",
              "\n",
              "        async function convertToInteractive(key) {\n",
              "          const element = document.querySelector('#df-adb92f85-43f9-41fe-a699-38a42cf23ed7');\n",
              "          const dataTable =\n",
              "            await google.colab.kernel.invokeFunction('convertToInteractive',\n",
              "                                                     [key], {});\n",
              "          if (!dataTable) return;\n",
              "\n",
              "          const docLinkHtml = 'Like what you see? Visit the ' +\n",
              "            '<a target=\"_blank\" href=https://colab.research.google.com/notebooks/data_table.ipynb>data table notebook</a>'\n",
              "            + ' to learn more about interactive tables.';\n",
              "          element.innerHTML = '';\n",
              "          dataTable['output_type'] = 'display_data';\n",
              "          await google.colab.output.renderOutput(dataTable, element);\n",
              "          const docLink = document.createElement('div');\n",
              "          docLink.innerHTML = docLinkHtml;\n",
              "          element.appendChild(docLink);\n",
              "        }\n",
              "      </script>\n",
              "    </div>\n",
              "  </div>\n",
              "  "
            ]
          },
          "metadata": {},
          "execution_count": 44
        }
      ]
    },
    {
      "cell_type": "markdown",
      "source": [
        "1. What is the average age of the customers in the dataset?"
      ],
      "metadata": {
        "id": "ErJMb6lD-Yw8"
      }
    },
    {
      "cell_type": "code",
      "source": [
        "df.Age.mean()"
      ],
      "metadata": {
        "colab": {
          "base_uri": "https://localhost:8080/"
        },
        "id": "wwcma8EA-ZmA",
        "outputId": "1e3447e7-08c8-49a5-a6bb-87082d02045f"
      },
      "execution_count": 45,
      "outputs": [
        {
          "output_type": "execute_result",
          "data": {
            "text/plain": [
              "40.88"
            ]
          },
          "metadata": {},
          "execution_count": 45
        }
      ]
    },
    {
      "cell_type": "markdown",
      "source": [
        "2. What is the highest income among the customers?"
      ],
      "metadata": {
        "id": "YVA7rBCI-k6F"
      }
    },
    {
      "cell_type": "code",
      "source": [
        "df.Income.max()"
      ],
      "metadata": {
        "colab": {
          "base_uri": "https://localhost:8080/"
        },
        "id": "fm5ia37n-nrg",
        "outputId": "7b279f29-eddb-4e42-e23e-2350ca965135"
      },
      "execution_count": 46,
      "outputs": [
        {
          "output_type": "execute_result",
          "data": {
            "text/plain": [
              "98497"
            ]
          },
          "metadata": {},
          "execution_count": 46
        }
      ]
    },
    {
      "cell_type": "markdown",
      "source": [
        "3. How many customers have a PhD degree?"
      ],
      "metadata": {
        "id": "vj3ws_T--qB1"
      }
    },
    {
      "cell_type": "code",
      "source": [
        "df[df['Education']=='PhD'].shape[0]\n",
        "\n",
        "# Another method____\n",
        "\n",
        "# df.Education.value_counts().loc['PhD']\n",
        "         # CALCULATING THE FREQUENCY OF PhD degree...v_counts() returns a sub_df...so loc is a of accessing\n",
        "\n",
        ""
      ],
      "metadata": {
        "colab": {
          "base_uri": "https://localhost:8080/"
        },
        "id": "rZQnIF-x-sAx",
        "outputId": "9c9ab45b-073d-4aa4-9fd3-17eea991584b"
      },
      "execution_count": 47,
      "outputs": [
        {
          "output_type": "execute_result",
          "data": {
            "text/plain": [
              "27"
            ]
          },
          "metadata": {},
          "execution_count": 47
        }
      ]
    },
    {
      "cell_type": "markdown",
      "source": [
        "4. Which country has the highest number of customers?"
      ],
      "metadata": {
        "id": "RoFTXckq-u1n"
      }
    },
    {
      "cell_type": "code",
      "source": [
        "df.Country.value_counts().nlargest(1).index\n",
        "# value_count return sub_df, nlargest() also returns that so\n",
        "# nlargest(1).index is valid way to approach\n",
        "\n",
        "\n",
        "# Another way to solve\n",
        "\n",
        "# df.Country.value_counts().idxmax()"
      ],
      "metadata": {
        "colab": {
          "base_uri": "https://localhost:8080/"
        },
        "id": "YaL2HaRH-vkO",
        "outputId": "0e4fe458-8810-434e-9189-5ad9dcea0dc6"
      },
      "execution_count": 48,
      "outputs": [
        {
          "output_type": "execute_result",
          "data": {
            "text/plain": [
              "Index(['UK'], dtype='object')"
            ]
          },
          "metadata": {},
          "execution_count": 48
        }
      ]
    },
    {
      "cell_type": "markdown",
      "source": [
        "5. What is the most common product among the customers?"
      ],
      "metadata": {
        "id": "OaZhJFS7-zrC"
      }
    },
    {
      "cell_type": "code",
      "source": [
        "df['Product'].value_counts()\n",
        "#df.Product.value_counts().nlargest(1).index  ___ if max has two values , then showing a overview of value_counts() is usefull..."
      ],
      "metadata": {
        "colab": {
          "base_uri": "https://localhost:8080/"
        },
        "id": "mkdIgdCC-1aX",
        "outputId": "ca3715ad-8277-4cef-dbda-563ef6710622"
      },
      "execution_count": 49,
      "outputs": [
        {
          "output_type": "execute_result",
          "data": {
            "text/plain": [
              "B    28\n",
              "D    28\n",
              "A    27\n",
              "C    17\n",
              "Name: Product, dtype: int64"
            ]
          },
          "metadata": {},
          "execution_count": 49
        }
      ]
    },
    {
      "cell_type": "markdown",
      "source": [
        "6. How many customers from Canada have an income above $60,000?"
      ],
      "metadata": {
        "id": "P9QDHFd__HUw"
      }
    },
    {
      "cell_type": "code",
      "source": [
        "df[(df['Income']>=60000 ) & (df['Country']=='Canada')].shape[0]\n",
        "# total values maintaining the conditions"
      ],
      "metadata": {
        "colab": {
          "base_uri": "https://localhost:8080/"
        },
        "id": "icpNLaTyDKLq",
        "outputId": "40ed5ea4-a617-4dab-d92b-130021b83863"
      },
      "execution_count": 50,
      "outputs": [
        {
          "output_type": "execute_result",
          "data": {
            "text/plain": [
              "13"
            ]
          },
          "metadata": {},
          "execution_count": 50
        }
      ]
    },
    {
      "cell_type": "markdown",
      "source": [
        "7. What is the income range (minimum and maximum) for customers with a Bachelor's degree?"
      ],
      "metadata": {
        "id": "ynCMI_le_DWI"
      }
    },
    {
      "cell_type": "code",
      "source": [
        " df[df['Education']=='Bachelor']['Income'].agg(['min','max'])\n",
        "\n",
        " # df.groupby('Education')['Income'].agg(['max','min']).loc['Bachelor']"
      ],
      "metadata": {
        "colab": {
          "base_uri": "https://localhost:8080/"
        },
        "id": "TIIfiKGVGtc2",
        "outputId": "64ad7f8a-bd07-4f95-9877-677a319fe182"
      },
      "execution_count": 64,
      "outputs": [
        {
          "output_type": "execute_result",
          "data": {
            "text/plain": [
              "max    96690\n",
              "min    31802\n",
              "Name: Bachelor, dtype: int64"
            ]
          },
          "metadata": {},
          "execution_count": 64
        }
      ]
    },
    {
      "cell_type": "markdown",
      "source": [
        "8. How many customers are below the age of 30?"
      ],
      "metadata": {
        "id": "wU9-Hjah-94g"
      }
    },
    {
      "cell_type": "code",
      "source": [
        "df[df['Age']<30].shape[0]"
      ],
      "metadata": {
        "colab": {
          "base_uri": "https://localhost:8080/"
        },
        "id": "rKrNbQbsJri8",
        "outputId": "c8cb3340-a3f3-40e9-902f-69b48919cb2c"
      },
      "execution_count": 65,
      "outputs": [
        {
          "output_type": "execute_result",
          "data": {
            "text/plain": [
              "25"
            ]
          },
          "metadata": {},
          "execution_count": 65
        }
      ]
    },
    {
      "cell_type": "markdown",
      "source": [
        "9. How many customers with an income above $70,000 are from Australia and have a Master's degree?"
      ],
      "metadata": {
        "id": "QWx6Up1f_E2l"
      }
    },
    {
      "cell_type": "code",
      "source": [
        "df[(df['Income']>70000) & (df['Country']=='Australia') & (df['Education']=='Master')].shape[0]"
      ],
      "metadata": {
        "colab": {
          "base_uri": "https://localhost:8080/"
        },
        "id": "do7j7Mb1KAiv",
        "outputId": "4bcbee62-fb7d-4bff-8e05-28003ca1b033"
      },
      "execution_count": 60,
      "outputs": [
        {
          "output_type": "execute_result",
          "data": {
            "text/plain": [
              "3"
            ]
          },
          "metadata": {},
          "execution_count": 60
        }
      ]
    },
    {
      "cell_type": "markdown",
      "source": [
        "10. What is the average income of customers from the UK?"
      ],
      "metadata": {
        "id": "2hM7AGqV-4VL"
      }
    },
    {
      "cell_type": "code",
      "source": [
        "df[df['Country']=='UK']['Income'].mean()\n",
        "\n",
        "# df.groupby('Country')['Income'].mean().loc['UK']\n",
        "\n"
      ],
      "metadata": {
        "colab": {
          "base_uri": "https://localhost:8080/"
        },
        "id": "7-udwZfHLE5N",
        "outputId": "c59f4126-9adf-4092-b543-d59fca665a0a"
      },
      "execution_count": 66,
      "outputs": [
        {
          "output_type": "execute_result",
          "data": {
            "text/plain": [
              "58847.166666666664"
            ]
          },
          "metadata": {},
          "execution_count": 66
        }
      ]
    },
    {
      "cell_type": "markdown",
      "source": [
        "11. How many customers with an income above $70,000 are from Australia and have a Master's degree?"
      ],
      "metadata": {
        "id": "eP9qlYmj_AZW"
      }
    },
    {
      "cell_type": "code",
      "source": [
        "df[(df['Income']>70000) & (df['Country']=='Australia') & (df['Education']=='Master')].shape[0]"
      ],
      "metadata": {
        "colab": {
          "base_uri": "https://localhost:8080/"
        },
        "id": "giil8WeLLWWS",
        "outputId": "58b6e6ab-ec84-4d4b-f037-9de2c4155777"
      },
      "execution_count": 67,
      "outputs": [
        {
          "output_type": "execute_result",
          "data": {
            "text/plain": [
              "3"
            ]
          },
          "metadata": {},
          "execution_count": 67
        }
      ]
    },
    {
      "cell_type": "markdown",
      "source": [
        "12. What is the median age of customers with Product A?"
      ],
      "metadata": {
        "id": "dTnRk6UP-7HA"
      }
    },
    {
      "cell_type": "code",
      "source": [
        "df[df['Product']=='A']['Age'].median()"
      ],
      "metadata": {
        "colab": {
          "base_uri": "https://localhost:8080/"
        },
        "id": "oBECLTNCPU6y",
        "outputId": "996cbac9-169d-46ff-abbb-3a89370b285d"
      },
      "execution_count": 68,
      "outputs": [
        {
          "output_type": "execute_result",
          "data": {
            "text/plain": [
              "38.0"
            ]
          },
          "metadata": {},
          "execution_count": 68
        }
      ]
    },
    {
      "cell_type": "markdown",
      "source": [
        "13. How many customers with an income above $80,000 and aged between 30 and 40 have a PhD degree?"
      ],
      "metadata": {
        "id": "soXGRAFg-wiS"
      }
    },
    {
      "cell_type": "code",
      "source": [
        "df[(df['Income']>80000) & (df['Age'].isin([30,40]))]"
      ],
      "metadata": {
        "id": "NSLzJuWv_d_V"
      },
      "execution_count": null,
      "outputs": []
    }
  ]
}